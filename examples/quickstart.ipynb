{
 "cells": [
  {
   "cell_type": "markdown",
   "metadata": {},
   "source": [
    "# AgentVault™ Quick Start Guide\n",
    "\n",
    "Welcome to AgentVault™ - Where AI Agents Store Their Intelligence! 🚀\n",
    "\n",
    "This notebook will walk you through:\n",
    "1. Setting up your first AI agent with AgentVault™\n",
    "2. Experiencing 99.99% faster storage operations\n",
    "3. Exploring advanced features like Storage DNA and Time-Travel Debugging\n",
    "\n",
    "Let's get started!"
   ]
  },
  {
   "cell_type": "markdown",
   "metadata": {},
   "source": [
    "## 1. Installation and Setup"
   ]
  },
  {
   "cell_type": "code",
   "execution_count": null,
   "metadata": {},
   "outputs": [],
   "source": [
    "# Install AgentVault (if not already installed)\n",
    "!pip install agentvault\n",
    "\n",
    "# Import required libraries\n",
    "import asyncio\n",
    "import time\n",
    "import numpy as np\n",
    "from datetime import datetime, timedelta\n",
    "\n",
    "# Import AgentVault components\n",
    "from agentvault import AgentVaultOrchestrator, AgentVaultMemory\n",
    "from agentvault.core import StorageRequest, StorageTier"
   ]
  },
  {
   "cell_type": "markdown",
   "metadata": {},
   "source": [
    "## 2. Initialize AgentVault™"
   ]
  },
  {
   "cell_type": "code",
   "execution_count": null,
   "metadata": {},
   "outputs": [],
   "source": [
    "# Configuration for local development\n",
    "config = {\n",
    "    \"azure\": {\n",
    "        \"subscription_id\": \"your-subscription-id\",\n",
    "        \"resource_group\": \"agentvault-demo-rg\",\n",
    "        \"location\": \"East US 2\"\n",
    "    },\n",
    "    \"anf\": {\n",
    "        \"account_name\": \"agentvault-demo-anf\",\n",
    "        \"subnet_id\": \"/subscriptions/.../subnets/anf-subnet\"\n",
    "    },\n",
    "    \"redis\": {\n",
    "        \"host\": \"localhost\",\n",
    "        \"port\": 6379,\n",
    "        \"password\": \"\"\n",
    "    },\n",
    "    \"security\": {\n",
    "        \"key_vault_url\": \"https://agentvault-demo-kv.vault.azure.net/\",\n",
    "        \"encryption_enabled\": True\n",
    "    }\n",
    "}\n",
    "\n",
    "# Initialize orchestrator\n",
    "orchestrator = AgentVaultOrchestrator(config)\n",
    "await orchestrator.initialize()\n",
    "\n",
    "print(\"✅ AgentVault™ initialized successfully!\")"
   ]
  },
  {
   "cell_type": "markdown",
   "metadata": {},
   "source": [
    "## 3. Register Your First AI Agent"
   ]
  },
  {
   "cell_type": "code",
   "execution_count": null,
   "metadata": {},
   "outputs": [],
   "source": [
    "# Register a LangChain agent\n",
    "agent_profile = await orchestrator.register_agent(\n",
    "    agent_id=\"demo-assistant-001\",\n",
    "    agent_type=\"langchain\",\n",
    "    config={\n",
    "        \"performance\": {\n",
    "            \"latency_requirement\": 0.1,  # 100ms max latency\n",
    "            \"throughput_requirement\": \"high\"\n",
    "        },\n",
    "        \"security\": {\n",
    "            \"encryption_required\": True,\n",
    "            \"compliance_level\": \"standard\"\n",
    "        },\n",
    "        \"storage\": {\n",
    "            \"vector_storage\": {\"tier\": \"ultra\", \"size_gb\": 10},\n",
    "            \"memory_storage\": {\"tier\": \"premium\", \"size_gb\": 20}\n",
    "        }\n",
    "    }\n",
    ")\n",
    "\n",
    "print(f\"🤖 Agent registered: {agent_profile.agent_id}\")\n",
    "print(f\"📊 Storage DNA created: {agent_profile.storage_dna}\")"
   ]
  },
  {
   "cell_type": "markdown",
   "metadata": {},
   "source": [
    "## 4. Experience the Speed: Traditional vs AgentVault™"
   ]
  },
  {
   "cell_type": "code",
   "execution_count": null,
   "metadata": {},
   "outputs": [],
   "source": [
    "# Generate test data - 1000 vector embeddings\n",
    "vectors = np.random.rand(1000, 768).astype(np.float32)\n",
    "print(f\"📦 Generated {len(vectors)} test vectors (768 dimensions each)\")\n",
    "\n",
    "# Traditional storage simulation\n",
    "print(\"\\n🐌 Traditional Storage Performance:\")\n",
    "traditional_times = []\n",
    "for i in range(10):\n",
    "    start = time.time()\n",
    "    # Simulate traditional storage latency\n",
    "    time.sleep(0.00987)  # 9.87ms average\n",
    "    traditional_times.append((time.time() - start) * 1000)\n",
    "    \n",
    "print(f\"Average latency: {np.mean(traditional_times):.2f}ms\")\n",
    "\n",
    "# AgentVault™ storage\n",
    "print(\"\\n🚀 AgentVault™ Performance:\")\n",
    "agentvault_times = []\n",
    "for i, vector in enumerate(vectors[:10]):\n",
    "    request = StorageRequest(\n",
    "        agent_id=\"demo-assistant-001\",\n",
    "        operation=\"write\",\n",
    "        data_type=\"vector\",\n",
    "        data_size=vector.nbytes,\n",
    "        priority=\"high\",\n",
    "        metadata={\"data\": vector.tolist(), \"index\": i}\n",
    "    )\n",
    "    \n",
    "    start = time.time()\n",
    "    result = await orchestrator.process_storage_request(request)\n",
    "    agentvault_times.append((time.time() - start) * 1000)\n",
    "    \n",
    "print(f\"Average latency: {np.mean(agentvault_times):.2f}ms\")\n",
    "print(f\"\\n🎉 Improvement: {(np.mean(traditional_times) / np.mean(agentvault_times)):.1f}x faster!\")"
   ]
  },
  {
   "cell_type": "markdown",
   "metadata": {},
   "source": [
    "## 5. Storage DNA in Action"
   ]
  },
  {
   "cell_type": "code",
   "execution_count": null,
   "metadata": {},
   "outputs": [],
   "source": [
    "# Simulate agent activity to evolve DNA\n",
    "print(\"🧬 Evolving Storage DNA based on access patterns...\\n\")\n",
    "\n",
    "# Simulate different access patterns\n",
    "for hour in range(24):\n",
    "    # More activity during business hours\n",
    "    num_requests = 100 if 9 <= hour <= 17 else 10\n",
    "    \n",
    "    for _ in range(num_requests):\n",
    "        request = StorageRequest(\n",
    "            agent_id=\"demo-assistant-001\",\n",
    "            operation=\"read\" if np.random.random() > 0.3 else \"write\",\n",
    "            data_type=np.random.choice([\"vector\", \"memory\", \"chat\"]),\n",
    "            data_size=np.random.randint(100, 10000),\n",
    "            priority=np.random.choice([\"low\", \"normal\", \"high\"])\n",
    "        )\n",
    "        await orchestrator.process_storage_request(request)\n",
    "\n",
    "# Get DNA insights\n",
    "dna_insights = await orchestrator.agent_dna_profiler.get_dna_insights(\"demo-assistant-001\")\n",
    "\n",
    "print(\"📊 Storage DNA Insights:\")\n",
    "print(f\"  • Behavior Stability: {dna_insights['behavior_stability']:.2%}\")\n",
    "print(f\"  • Primary Workload: {dna_insights['current_characteristics']['primary_workload']}\")\n",
    "print(f\"  • Performance Profile: {dna_insights['current_characteristics']['performance_profile']}\")\n",
    "print(f\"  • Optimization Opportunities: {len(dna_insights['optimization_opportunities'])}\")\n",
    "print(f\"\\n✨ Your agent now has personalized storage optimization!\")"
   ]
  },
  {
   "cell_type": "markdown",
   "metadata": {},
   "source": [
    "## 6. LangChain Integration Example"
   ]
  },
  {
   "cell_type": "code",
   "execution_count": null,
   "metadata": {},
   "outputs": [],
   "source": [
    "from langchain.agents import initialize_agent, AgentType\n",
    "from langchain.llms import OpenAI\n",
    "from langchain.tools import Tool\n",
    "\n",
    "# Create AgentVault-powered memory\n",
    "memory = AgentVaultMemory(\n",
    "    orchestrator=orchestrator,\n",
    "    agent_id=\"demo-assistant-001\",\n",
    "    tier=\"ultra\",  # Use ultra-fast tier for conversation memory\n",
    "    features=[\"semantic_dedup\", \"auto_summarize\"]\n",
    ")\n",
    "\n",
    "# Create a simple calculator tool\n",
    "def calculator(query: str) -> str:\n",
    "    \"\"\"Useful for mathematical calculations\"\"\"\n",
    "    try:\n",
    "        return str(eval(query))\n",
    "    except:\n",
    "        return \"Invalid mathematical expression\"\n",
    "\n",
    "tools = [\n",
    "    Tool(\n",
    "        name=\"Calculator\",\n",
    "        func=calculator,\n",
    "        description=\"Useful for mathematical calculations\"\n",
    "    )\n",
    "]\n",
    "\n",
    "# Initialize agent with AgentVault memory\n",
    "llm = OpenAI(temperature=0)\n",
    "agent = initialize_agent(\n",
    "    tools=tools,\n",
    "    llm=llm,\n",
    "    agent=AgentType.CONVERSATIONAL_REACT_DESCRIPTION,\n",
    "    memory=memory,\n",
    "    verbose=True\n",
    ")\n",
    "\n",
    "# Test the agent\n",
    "print(\"🤖 LangChain Agent with AgentVault™ Memory:\\n\")\n",
    "\n",
    "# First interaction\n",
    "response1 = agent.run(\"Hi! Can you calculate 42 * 17 for me?\")\n",
    "print(f\"Agent: {response1}\\n\")\n",
    "\n",
    "# Second interaction - agent remembers context\n",
    "response2 = agent.run(\"What was that number I asked you to calculate?\")\n",
    "print(f\"Agent: {response2}\")\n",
    "\n",
    "print(\"\\n✅ Memory is stored with <0.1ms latency!\")"
   ]
  },
  {
   "cell_type": "markdown",
   "metadata": {},
   "source": [
    "## 7. Time-Travel Debugging"
   ]
  },
  {
   "cell_type": "code",
   "execution_count": null,
   "metadata": {},
   "outputs": [],
   "source": [
    "# Simulate some agent activity\n",
    "print(\"🕰️ Creating agent history for time-travel debugging...\\n\")\n",
    "\n",
    "timestamps = []\n",
    "for i in range(5):\n",
    "    request = StorageRequest(\n",
    "        agent_id=\"demo-assistant-001\",\n",
    "        operation=\"write\",\n",
    "        data_type=\"decision\",\n",
    "        data_size=1000,\n",
    "        metadata={\n",
    "            \"decision_id\": f\"decision_{i}\",\n",
    "            \"action\": f\"Action {i}\",\n",
    "            \"reasoning\": f\"Reasoning for action {i}\",\n",
    "            \"confidence\": 0.8 + i * 0.02\n",
    "        }\n",
    "    )\n",
    "    \n",
    "    result = await orchestrator.process_storage_request(request)\n",
    "    timestamps.append(datetime.utcnow())\n",
    "    print(f\"📝 Recorded decision {i} at {timestamps[-1].strftime('%H:%M:%S')}\")\n",
    "    await asyncio.sleep(1)  # Wait 1 second between decisions\n",
    "\n",
    "# Now let's travel back in time!\n",
    "print(\"\\n⏮️ Time-traveling to 3 seconds ago...\")\n",
    "\n",
    "target_time = timestamps[2]  # Go back to decision 2\n",
    "time_travel_request = StorageRequest(\n",
    "    agent_id=\"demo-assistant-001\",\n",
    "    operation=\"time_travel_query\",\n",
    "    data_type=\"historical_state\",\n",
    "    metadata={\n",
    "        \"target_timestamp\": target_time.isoformat(),\n",
    "        \"query_type\": \"full_state\"\n",
    "    }\n",
    ")\n",
    "\n",
    "historical_state = await orchestrator.process_storage_request(time_travel_request)\n",
    "print(f\"\\n🔍 Agent state at {target_time.strftime('%H:%M:%S')}:\")\n",
    "print(f\"  • Decision: {historical_state.get('decision_id', 'N/A')}\")\n",
    "print(f\"  • Confidence: {historical_state.get('confidence', 'N/A')}\")\n",
    "print(\"\\n✨ Perfect for debugging production issues!\")"
   ]
  },
  {
   "cell_type": "markdown",
   "metadata": {},
   "source": [
    "## 8. Performance Monitoring"
   ]
  },
  {
   "cell_type": "code",
   "execution_count": null,
   "metadata": {},
   "outputs": [],
   "source": [
    "# Get performance metrics\n",
    "encryption_metrics = await orchestrator.encryption_manager.get_encryption_metrics()\n",
    "tier_metrics = await orchestrator.tier_manager.get_tier_metrics()\n",
    "cognitive_metrics = await orchestrator.cognitive_balancer.get_performance_report()\n",
    "\n",
    "print(\"📈 AgentVault™ Performance Dashboard\\n\")\n",
    "\n",
    "print(\"🔒 Encryption Performance:\")\n",
    "print(f\"  • Operations: {encryption_metrics['total_operations']:,}\")\n",
    "print(f\"  • Avg Encryption Time: {encryption_metrics['average_encryption_time_ms']:.2f}ms\")\n",
    "print(f\"  • Avg Decryption Time: {encryption_metrics['average_decryption_time_ms']:.2f}ms\")\n",
    "\n",
    "print(\"\\n💾 Storage Tier Utilization:\")\n",
    "for tier, metrics in tier_metrics.items():\n",
    "    print(f\"  • {tier.value}: {metrics.utilization_percent:.1f}% utilized\")\n",
    "\n",
    "print(\"\\n🧠 Cognitive Load Balancing:\")\n",
    "print(f\"  • Predictions Made: {cognitive_metrics['prediction_metrics']['total_predictions']:,}\")\n",
    "print(f\"  • Accuracy: {cognitive_metrics['prediction_metrics']['accuracy_percent']:.1f}%\")\n",
    "print(f\"  • Avg Latency Improvement: {cognitive_metrics['rebalancing_metrics']['average_latency_improvement_ms']:.1f}ms\")"
   ]
  },
  {
   "cell_type": "markdown",
   "metadata": {},
   "source": [
    "## 9. Cost Optimization"
   ]
  },
  {
   "cell_type": "code",
   "execution_count": null,
   "metadata": {},
   "outputs": [],
   "source": [
    "# Simulate data aging and tier optimization\n",
    "print(\"💰 Demonstrating Cost Optimization...\\n\")\n",
    "\n",
    "# Create some data in expensive tiers\n",
    "for i in range(100):\n",
    "    request = StorageRequest(\n",
    "        agent_id=\"demo-assistant-001\",\n",
    "        operation=\"write\",\n",
    "        data_type=\"historical_data\",\n",
    "        data_size=1024 * 1024,  # 1MB each\n",
    "        priority=\"low\",  # Low priority data\n",
    "        metadata={\n",
    "            \"data_id\": f\"historical_{i}\",\n",
    "            \"created_at\": (datetime.utcnow() - timedelta(days=30)).isoformat()\n",
    "        }\n",
    "    )\n",
    "    await orchestrator.process_storage_request(request)\n",
    "\n",
    "# Run tier optimization\n",
    "optimization_result = await orchestrator.tier_manager.optimize_tiers()\n",
    "\n",
    "print(\"📊 Optimization Results:\")\n",
    "print(f\"  • Data Moved: {optimization_result['data_moved_bytes'] / (1024**3):.2f} GB\")\n",
    "print(f\"  • Transitions: {optimization_result['transitions_initiated']}\")\n",
    "print(f\"  • Estimated Monthly Savings: ${optimization_result['estimated_cost_savings']:.2f}\")\n",
    "print(\"\\n✅ Automatic cost optimization without performance impact!\")"
   ]
  },
  {
   "cell_type": "markdown",
   "metadata": {},
   "source": [
    "## 10. Next Steps\n",
    "\n",
    "Congratulations! You've experienced the power of AgentVault™. Here's what you can explore next:\n",
    "\n",
    "### 🚀 Advanced Features\n",
    "- **Neural Compression**: 10x compression with semantic preservation\n",
    "- **Multi-Agent Collaboration**: Shared memory pools for agent teams\n",
    "- **Federated Learning**: Learn from other agents while preserving privacy\n",
    "- **Edge Deployment**: Run AgentVault™ at the edge for IoT scenarios\n",
    "\n",
    "### 📚 Resources\n",
    "- [Full Documentation](https://agentvault.readthedocs.io)\n",
    "- [GitHub Repository](https://github.com/DwirefS/AgentVault)\n",
    "- [Example Gallery](https://github.com/DwirefS/AgentVault/tree/main/examples)\n",
    "- [Community Discord](https://discord.gg/agentvault)\n",
    "\n",
    "### 🤝 Get Involved\n",
    "- Star the repo on GitHub\n",
    "- Share your success stories\n",
    "- Contribute to the project\n",
    "- Join our community\n",
    "\n",
    "Thank you for trying AgentVault™! Together, let's revolutionize AI agent storage. 🎉"
   ]
  },
  {
   "cell_type": "code",
   "execution_count": null,
   "metadata": {},
   "outputs": [],
   "source": [
    "# Cleanup\n",
    "await orchestrator.shutdown()\n",
    "print(\"👋 AgentVault™ shutdown complete. See you next time!\")"
   ]
  }
 ],
 "metadata": {
  "kernelspec": {
   "display_name": "Python 3 (ipykernel)",
   "language": "python",
   "name": "python3"
  },
  "language_info": {
   "codemirror_mode": {
    "name": "ipython",
    "version": 3
   },
   "file_extension": ".py",
   "mimetype": "text/x-python",
   "name": "python",
   "nbconvert_exporter": "python",
   "pygments_lexer": "ipython3",
   "version": "3.9.0"
  }
 },
 "nbformat": 4,
 "nbformat_minor": 4
}